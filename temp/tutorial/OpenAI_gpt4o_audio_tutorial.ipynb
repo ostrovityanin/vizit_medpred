{
 "cells": [
  {
   "cell_type": "markdown",
   "id": "4af26d53",
   "metadata": {},
   "source": [
    "# Audio Capabilities with OpenAI's gpt-4o-audio-preview Model: A Practical Guide\n",
    "    \n",
    "This notebook will walk you through how to use OpenAI’s new `gpt-4o-audio-preview` model using LangChain.\n",
    "We’ll go step by step, covering everything from environment setup to audio processing and advanced use cases like tool calling and chaining tasks.\n",
    "\n",
    "This guide will get you up and running with practical examples."
   ]
  },
  {
   "cell_type": "markdown",
   "id": "6ea9f3a4",
   "metadata": {},
   "source": [
    "### 1. Installing the Required Packages\n",
    "\n",
    "We’ll need the `langchain-openai` package to interact with OpenAI models. Run the command below to install it.\n",
    "\n",
    "```bash\n",
    "%pip install -qU langchain-openai\n",
    "```\n",
    "\n",
    "Let’s break this down quickly: the -q flag tells the installer to keep things quiet (so it doesn't spam your terminal with output), and the -U flag ensures you’re installing the latest version. Installing this package allows LangChain to interact with OpenAI’s models directly, which is exactly what we need to move forward.\n"
   ]
  },
  {
   "cell_type": "code",
   "execution_count": 1,
   "id": "514ee243",
   "metadata": {},
   "outputs": [
    {
     "name": "stdout",
     "output_type": "stream",
     "text": [
      "Note: you may need to restart the kernel to use updated packages.\n"
     ]
    }
   ],
   "source": [
    "# Install langchain-openai package\n",
    "%pip install -qU langchain-openai"
   ]
  },
  {
   "cell_type": "markdown",
   "id": "aa03bf53",
   "metadata": {},
   "source": [
    "### 2. Setting Up Environment Variables\n",
    "\n",
    "Now we’ll set up the environment variables to store your OpenAI API key. This keeps sensitive information out of your code.\n",
    "\n",
    "You can manually set the environment variable in your terminal, or use a `.env` file in combination with `python-dotenv`. Here, we’ll show you how to set it within Python."
   ]
  },
  {
   "cell_type": "code",
   "execution_count": 1,
   "id": "3ea87b19",
   "metadata": {},
   "outputs": [],
   "source": [
    "import getpass\n",
    "import os\n",
    "\n",
    "# Set your OpenAI API key as an environment variable\n",
    "if not os.environ.get(\"OPENAI_API_KEY\"):\n",
    "    os.environ[\"OPENAI_API_KEY\"] = getpass.getpass(\"Enter your OpenAI API key: \")"
   ]
  },
  {
   "cell_type": "markdown",
   "id": "db84d3ba",
   "metadata": {},
   "source": [
    "### 3. Instantiating the Model\n",
    "\n",
    "Now that we have our environment set up, let’s instantiate the `gpt-4o-audio-preview` model using LangChain. We’ll also configure some basic parameters like temperature and token limits."
   ]
  },
  {
   "cell_type": "code",
   "execution_count": 2,
   "id": "b4ce194c",
   "metadata": {},
   "outputs": [],
   "source": [
    "from langchain_openai import ChatOpenAI\n",
    "\n",
    "# Instantiate the model\n",
    "llm = ChatOpenAI(\n",
    "    model=\"gpt-4o-audio-preview\",  # Specifying the model\n",
    "    temperature=0,  # Low randomness for structured output\n",
    "    max_tokens=None,  # Unlimited tokens (set a limit if needed)\n",
    "    timeout=None,  # No timeout for processing\n",
    "    max_retries=2  # Retry if the request fails\n",
    ")"
   ]
  },
  {
   "cell_type": "markdown",
   "id": "802922ef",
   "metadata": {},
   "source": [
    "### 4. Uploading and Encoding Audio Files\n",
    "\n",
    "We’ll now upload an audio file and encode it into base64 format so that it can be processed by the model. Here’s how you can read and encode an audio file in Python."
   ]
  },
  {
   "cell_type": "code",
   "execution_count": 3,
   "id": "8cd5c86c",
   "metadata": {},
   "outputs": [],
   "source": [
    "import base64\n",
    "\n",
    "# Open the audio file and convert to base64\n",
    "with open(\"gpt.wav\", \"rb\") as f: #Replace your own audio file here\n",
    "    audio_data = f.read()\n",
    "\n",
    "# Convert binary audio data to base64\n",
    "audio_b64 = base64.b64encode(audio_data).decode()\n"
   ]
  },
  {
   "cell_type": "markdown",
   "id": "8f4a7a23",
   "metadata": {},
   "source": [
    "### 5. Transcribing Audio\n",
    "\n",
    "Now that we’ve encoded the audio, we can pass it to the model and get a transcription. Let’s send the request and retrieve the transcribed text."
   ]
  },
  {
   "cell_type": "code",
   "execution_count": 4,
   "id": "98972ab5",
   "metadata": {},
   "outputs": [
    {
     "name": "stdout",
     "output_type": "stream",
     "text": [
      "As an athlete with a busy lifestyle, finding the right pair of jeans has always been challenging.\n"
     ]
    }
   ],
   "source": [
    "# Send audio for transcription\n",
    "messages = [\n",
    "    (\n",
    "        \"human\",\n",
    "        [\n",
    "            {\"type\": \"text\", \"text\": \"Transcribe the following:\"},\n",
    "            {\"type\": \"input_audio\", \"input_audio\": {\"data\": audio_b64, \"format\": \"wav\"}},\n",
    "        ],\n",
    "    )\n",
    "]\n",
    "\n",
    "# Invoke the model and get the transcription\n",
    "output_message = llm.invoke(messages)\n",
    "print(output_message.content)  # The transcription will appear here"
   ]
  },
  {
   "cell_type": "markdown",
   "id": "deae0df6",
   "metadata": {},
   "source": [
    "### 6. Generating Audio Responses\n",
    "\n",
    "Let’s now configure the model to generate audio outputs, allowing it to respond with actual speech. We’ll specify the voice and format for the output."
   ]
  },
  {
   "cell_type": "code",
   "execution_count": 7,
   "id": "7f8971f0",
   "metadata": {},
   "outputs": [
    {
     "name": "stdout",
     "output_type": "stream",
     "text": [
      "Generated audio (base64): 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\n"
     ]
    }
   ],
   "source": [
    "# Configure the model to generate audio responses\n",
    "llm = ChatOpenAI(\n",
    "    model=\"gpt-4o-audio-preview\",\n",
    "    temperature=0,\n",
    "    model_kwargs={\n",
    "        \"modalities\": [\"text\", \"audio\"],  # Enable audio responses\n",
    "        \"audio\": {\"voice\": \"alloy\", \"format\": \"wav\"},  # Set voice and output format\n",
    "    }\n",
    ")\n",
    "\n",
    "# Generate a response with audio\n",
    "messages = [(\"human\", \"Are you human? Reply either yes or no.\")]\n",
    "output_message = llm.invoke(messages)\n",
    "\n",
    "# Access the generated audio data\n",
    "audio_response = output_message.additional_kwargs['audio']['data']\n",
    "print(f\"Generated audio (base64): {audio_response}\")"
   ]
  },
  {
   "cell_type": "markdown",
   "id": "6552238e",
   "metadata": {},
   "source": [
    "### 7. Saving and Playing Back Audio\n",
    "\n",
    "After generating the audio response, you might want to save it and play it back. Here’s how you can decode the base64-encoded audio data and save it as a `.wav` file."
   ]
  },
  {
   "cell_type": "code",
   "execution_count": 8,
   "id": "3a57e1e6",
   "metadata": {},
   "outputs": [
    {
     "name": "stdout",
     "output_type": "stream",
     "text": [
      "Audio saved as output.wav\n"
     ]
    }
   ],
   "source": [
    "# Decode the base64 audio data\n",
    "audio_bytes = base64.b64decode(audio_response)\n",
    "\n",
    "# Save the audio as a .wav file\n",
    "with open(\"output.wav\", \"wb\") as f:\n",
    "    f.write(audio_bytes)\n",
    "\n",
    "print(\"Audio saved as output.wav\")"
   ]
  },
  {
   "cell_type": "markdown",
   "id": "06892fc0",
   "metadata": {},
   "source": [
    "### 8. Tool Binding and Task Chaining\n",
    "\n",
    "In more advanced use cases, you can bind tools to the model and chain tasks. For example, we can bind a weather fetching tool to the model and chain it with transcription."
   ]
  },
  {
   "cell_type": "code",
   "execution_count": 18,
   "id": "272c776e",
   "metadata": {},
   "outputs": [
    {
     "name": "stdout",
     "output_type": "stream",
     "text": [
      "The weather in Edinburgh, GB is broken clouds with a temperature of 13.48°C.\n"
     ]
    }
   ],
   "source": [
    "import requests\n",
    "from pydantic import BaseModel, Field\n",
    "\n",
    "# Define a tool schema using Pydantic\n",
    "class GetWeather(BaseModel):\n",
    "    \"\"\"Get the current weather in a given location.\"\"\"\n",
    "    location: str = Field(..., description=\"The city and state, e.g. Edinburgh, UK\")\n",
    "    \n",
    "    def fetch_weather(self):\n",
    "        # Using OpenWeatherMap API to fetch real-time weather\n",
    "        API_KEY = \"\"  # Replace with your actual API key\n",
    "        base_url = f\"http://api.openweathermap.org/data/2.5/weather?q={self.location}&APPID={API_KEY}&units=metric\"\n",
    "        \n",
    "        response = requests.get(base_url)\n",
    "        \n",
    "        if response.status_code == 200:\n",
    "            data = response.json()\n",
    "            weather_description = data['weather'][0]['description']\n",
    "            temperature = data['main']['temp']\n",
    "            return f\"The weather in {self.location} is {weather_description} with a temperature of {temperature}°C.\"\n",
    "        else:\n",
    "            # Print the status code and response for debugging\n",
    "            print(f\"Error: {response.status_code}, {response.text}\")\n",
    "            return f\"Could not fetch the weather for {self.location}.\"\n",
    "\n",
    "# Example usage\n",
    "weather_tool = GetWeather(location=\"Edinburgh, GB\")  # Using city name and country code\n",
    "ai_msg = weather_tool.fetch_weather()\n",
    "print(ai_msg)\n"
   ]
  },
  {
   "cell_type": "markdown",
   "id": "fb9302ce",
   "metadata": {},
   "source": [
    "Now let’s take it a step further - chaining tasks. This is where you can create multi-step workflows that combine multiple tools and model calls to handle complex requests. Imagine a scenario where you want your assistant to transcribe audio and then perform an action for the location mentioned in the audio. In this example, we’ll chain an audio transcription task with a weather lookup based on the transcribed."
   ]
  },
  {
   "cell_type": "code",
   "execution_count": 20,
   "id": "08c79153",
   "metadata": {},
   "outputs": [
    {
     "name": "stdout",
     "output_type": "stream",
     "text": [
      "Transcribed location: Edinburgh\n",
      "Weather result: The weather in Edinburgh is broken clouds with a temperature of 13.47°C.\n"
     ]
    }
   ],
   "source": [
    "import base64\n",
    "import requests\n",
    "from pydantic import BaseModel, Field\n",
    "from langchain_core.prompts import ChatPromptTemplate\n",
    "from langchain_openai import ChatOpenAI\n",
    "\n",
    "# Define the tool schema for fetching weather\n",
    "class GetWeather(BaseModel):\n",
    "    \"\"\"Get the current weather in a given location.\"\"\"\n",
    "    location: str = Field(..., description=\"The city and state, e.g. Edinburgh, UK\")\n",
    "    \n",
    "    def fetch_weather(self):\n",
    "        # Using OpenWeatherMap API to fetch real-time weather\n",
    "        API_KEY = \"\"  # Replace with your actual API key\n",
    "        base_url = f\"http://api.openweathermap.org/data/2.5/weather?q={self.location}&appid={API_KEY}&units=metric\"        \n",
    "        response = requests.get(base_url)\n",
    "        if response.status_code == 200:\n",
    "            data = response.json()\n",
    "            weather_description = data['weather'][0]['description']\n",
    "            temperature = data['main']['temp']\n",
    "            return f\"The weather in {self.location} is {weather_description} with a temperature of {temperature}°C.\"\n",
    "        else:\n",
    "            return f\"Could not fetch the weather for {self.location}.\"\n",
    "\n",
    "# Instantiate the LLM model\n",
    "llm = ChatOpenAI(\n",
    "    model=\"gpt-4o-audio-preview\"\n",
    ")\n",
    "\n",
    "# Function to handle audio transcription using the LLM\n",
    "def audio_to_text(audio_b64: str) -> str:\n",
    "    # Define the message to send for transcription\n",
    "    messages = [\n",
    "        (\n",
    "            \"human\",\n",
    "            [\n",
    "                {\"type\": \"text\", \"text\": \"Transcribe the following:\"},\n",
    "                {\"type\": \"input_audio\", \"input_audio\": {\"data\": audio_b64, \"format\": \"wav\"}},\n",
    "            ],\n",
    "        )\n",
    "    ]\n",
    "    # Invoke the model and get the transcription\n",
    "    output_message = llm.invoke(messages)\n",
    "    # Return the transcription from the model's output\n",
    "    return output_message.content\n",
    "\n",
    "# Create a prompt template for transcription and weather lookup\n",
    "prompt = ChatPromptTemplate.from_messages(\n",
    "    [\n",
    "        (\"system\", \"You are an assistant that transcribes audio and fetches weather information.\"),\n",
    "        (\"human\", \"Transcribe the following and tell me the weather in the location mentioned in the audio.\"),\n",
    "    ]\n",
    ")\n",
    "\n",
    "# Bind the tool to the model\n",
    "llm_with_tools = llm.bind_tools([GetWeather])\n",
    "\n",
    "# Chain the transcription and weather tool\n",
    "chain = prompt | llm_with_tools\n",
    "\n",
    "# Read and encode the audio file in base64\n",
    "audio_file = \"weather_input.wav\" #Replace by your own audio file\n",
    "\n",
    "with open(audio_file, \"rb\") as audio_file:\n",
    "    audio_b64 = base64.b64encode(audio_file.read()).decode('utf-8')\n",
    "\n",
    "# Transcribe the audio to get the location\n",
    "transcribed_location = audio_to_text(audio_b64)\n",
    "\n",
    "# Print the transcription result for debugging\n",
    "print(f\"Transcribed location: {transcribed_location}\")\n",
    "\n",
    "# Check if transcription returned a valid result\n",
    "if transcribed_location:\n",
    "    # Fetch weather for the transcribed location\n",
    "    weather_tool = GetWeather(location=transcribed_location)\n",
    "    weather_result = weather_tool.fetch_weather()\n",
    "    print(f\"Weather result: {weather_result}\")\n",
    "else:\n",
    "    print(\"No valid location was transcribed from the audio.\")"
   ]
  },
  {
   "cell_type": "markdown",
   "id": "2e5b8429",
   "metadata": {},
   "source": [
    "## Practical Example: Building a Voice-Enabled Assistant\n",
    "Finally, let’s look into a practical example where we build a voice-enabled assistant that listens to user queries through audio, generates a response, and replies back using audio. "
   ]
  },
  {
   "cell_type": "code",
   "execution_count": 17,
   "id": "6f71e3b7",
   "metadata": {},
   "outputs": [
    {
     "name": "stdout",
     "output_type": "stream",
     "text": [
      "Audio response saved as 'response.wav'\n"
     ]
    }
   ],
   "source": [
    "import base64\n",
    "from langchain_openai import ChatOpenAI\n",
    "\n",
    "# Step 1: Instantiate the audio-capable model with configuration for generating audio\n",
    "llm = ChatOpenAI(\n",
    "    model=\"gpt-4o-audio-preview\",\n",
    "    temperature=0,\n",
    "    model_kwargs={\n",
    "        \"modalities\": [\"text\", \"audio\"],  # Enable both text and audio modalities\n",
    "        \"audio\": {\"voice\": \"alloy\", \"format\": \"wav\"},  # Set the desired voice and output format\n",
    "    }\n",
    ")\n",
    "\n",
    "# Step 2: Capture and encode the audio (replace this with real audio input)\n",
    "audio_file = \"math_joke_audio.wav\" #Replace by your own audio file\n",
    "with open(audio_file, \"rb\") as audio_file:\n",
    "    audio_b64 = base64.b64encode(audio_file.read()).decode('utf-8')\n",
    "\n",
    "# Step 3: Create the message structure for transcription and audio response\n",
    "messages = [\n",
    "    (\n",
    "        \"human\",\n",
    "        [\n",
    "            {\"type\": \"text\", \"text\": \"Answer the question.\"},\n",
    "            {\"type\": \"input_audio\", \"input_audio\": {\"data\": audio_b64, \"format\": \"wav\"}},\n",
    "        ],\n",
    "    )\n",
    "]\n",
    "\n",
    "# Step 4: Invoke the model to transcribe the audio and generate a response\n",
    "result = llm.invoke(messages)\n",
    "\n",
    "# Step 5: Extract the audio response\n",
    "audio_response = result.additional_kwargs.get('audio', {}).get('data')  # Safely check if audio exists\n",
    "\n",
    "# Step 6: Save the audio response to a file if it exists\n",
    "if audio_response:\n",
    "    # Decode the base64 audio data and save it as a .wav file\n",
    "    audio_bytes = base64.b64decode(audio_response)\n",
    "    with open(\"response.wav\", \"wb\") as f:\n",
    "        f.write(audio_bytes)\n",
    "    print(\"Audio response saved as 'response.wav'\")\n",
    "else:\n",
    "    print(\"No audio response available\")\n"
   ]
  }
 ],
 "metadata": {
  "kernelspec": {
   "display_name": "Python 3",
   "language": "python",
   "name": "python3"
  },
  "language_info": {
   "codemirror_mode": {
    "name": "ipython",
    "version": 3
   },
   "file_extension": ".py",
   "mimetype": "text/x-python",
   "name": "python",
   "nbconvert_exporter": "python",
   "pygments_lexer": "ipython3",
   "version": "3.9.1"
  }
 },
 "nbformat": 4,
 "nbformat_minor": 5
}
